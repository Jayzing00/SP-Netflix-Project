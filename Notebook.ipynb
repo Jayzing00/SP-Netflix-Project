{
  "nbformat": 4,
  "nbformat_minor": 0,
  "metadata": {
    "colab": {
      "name": "Notebook.ipynb",
      "provenance": [],
      "collapsed_sections": [],
      "include_colab_link": true
    },
    "kernelspec": {
      "name": "python3",
      "display_name": "Python 3"
    },
    "language_info": {
      "name": "python"
    }
  },
  "cells": [
    {
      "cell_type": "markdown",
      "metadata": {
        "id": "view-in-github",
        "colab_type": "text"
      },
      "source": [
        "<a href=\"https://colab.research.google.com/github/Jayzing00/SP-Netflix-Project/blob/main/Notebook.ipynb\" target=\"_parent\"><img src=\"https://colab.research.google.com/assets/colab-badge.svg\" alt=\"Open In Colab\"/></a>"
      ]
    },
    {
      "cell_type": "markdown",
      "source": [
        "Welcome to the Jupyter Notebook for plotting Netflix subscription costs against the number of shows you can watch.\n",
        "\n",
        "To start, we read in all the data from a csv file, edit it a bit and then store it in a Pandas DataFrame."
      ],
      "metadata": {
        "id": "wOSJ362lW72m"
      }
    },
    {
      "cell_type": "code",
      "execution_count": null,
      "metadata": {
        "id": "mxTe8Dwpo4xa"
      },
      "outputs": [],
      "source": [
        "#Whole projet in on GitHub: https://github.com/Jayzing00/SP-Netflix-Project/tree/master\n",
        "\n",
        "from matplotlib.pyplot import axis\n",
        "import pandas as pd\n",
        "import matplotlib.pylab as plt\n",
        "import numpy as np\n",
        "from pandas import *\n",
        "\n",
        "col_list = [\"Country_code\", \"Country\", \"LibrarySize\", \"No. of TV Shows\", \"No. of Movies\", \"CPM_Basic\", \"CPM_Standard\", \"CPM_Premium\" ]\n",
        "\n",
        "wholeCSV = pd.read_csv('NetflixFees.csv', usecols=col_list)\n",
        "\n",
        "cost_list = []\n",
        "cpm_list = []\n",
        "netflix_abos = []\n",
        "\n",
        "df = wholeCSV.reset_index()\n",
        "\n",
        "for index, row in df.iterrows():\n",
        "    #Abo-Preis / Library-Size  = Kosten für *eine* einzelne Show/Film\n",
        "    cost_per_content = (row.CPM_Basic / row.LibrarySize)*100\n",
        "    cost_list.append(cost_per_content)\n",
        "    tmp_list = [row.Country, row.LibrarySize, row.CPM_Basic, cost_per_content]\n",
        "    netflix_abos.append(tmp_list)\n",
        "\n",
        "\n",
        "df_new = pd.DataFrame (netflix_abos, columns=[\"Country\", \"LibrarySize\", \"CPM_Basic\" ,\"cost_per_content\"])\n",
        "df_sort = df_new.sort_values('cost_per_content')\n",
        "\n",
        "ylabel = \"\""
      ]
    },
    {
      "cell_type": "markdown",
      "source": [
        "Once all the data has been processed, we sort it by cost and output it. At the top we see the countries that pay the least for the Netflix subscription but have the most shows at the same time."
      ],
      "metadata": {
        "id": "b-ftjctbWwJm"
      }
    },
    {
      "cell_type": "code",
      "source": [
        "print(df_sort)"
      ],
      "metadata": {
        "colab": {
          "base_uri": "https://localhost:8080/"
        },
        "id": "0Oh5gyayWzfv",
        "outputId": "526bd337-7f60-4655-b43b-130344e87d55"
      },
      "execution_count": null,
      "outputs": [
        {
          "output_type": "stream",
          "name": "stdout",
          "text": [
            "          Country  LibrarySize  CPM_Basic  cost_per_content\n",
            "59         Turkey         4639       1.97          0.042466\n",
            "26          India         5843       2.64          0.045182\n",
            "0       Argentina         4760       3.74          0.078571\n",
            "9        Colombia         4991       4.31          0.086355\n",
            "5          Brazil         4972       4.61          0.092719\n",
            "..            ...          ...        ...               ...\n",
            "55         Sweden         4361      10.90          0.249943\n",
            "13        Denmark         4558      12.00          0.263273\n",
            "49     San Marino         2310       9.03          0.390909\n",
            "11        Croatia         2274       9.03          0.397098\n",
            "33  Liechtenstein         3048      12.88          0.422572\n",
            "\n",
            "[65 rows x 4 columns]\n"
          ]
        }
      ]
    },
    {
      "cell_type": "markdown",
      "source": [
        "Let's put our losers in graphical form. As can be seen, in Liechtenstein you pay about 0.425 cents for a show. In concrete terms, this means that the subscription is expensive and the total number of shows is rather small."
      ],
      "metadata": {
        "id": "QhljG6YnWJs7"
      }
    },
    {
      "cell_type": "code",
      "source": [
        "x = df_sort[60:].Country\n",
        "y = df_sort[60:].cost_per_content\n",
        "plt.xlabel(\"5 Worst Deals\")\n",
        "plt.ylabel(\"Cost per Content in Cent\")\n",
        "plt.plot(x, y, 'o:')\n",
        "plt.show()"
      ],
      "metadata": {
        "colab": {
          "base_uri": "https://localhost:8080/",
          "height": 279
        },
        "id": "v2vPOvjJWNOF",
        "outputId": "53f7c10e-51de-4124-933d-e19f8f88b1a1"
      },
      "execution_count": null,
      "outputs": [
        {
          "output_type": "display_data",
          "data": {
            "text/plain": [
              "<Figure size 432x288 with 1 Axes>"
            ],
            "image/png": "[encoded data removed]"
          },
          "metadata": {
            "needs_background": "light"
          }
        }
      ]
    },
    {
      "cell_type": "markdown",
      "source": [
        "It's a little different for our winners. Turkey wins at a cost of about 0.04 cents per show. That is 10 times better than Liechtenstein."
      ],
      "metadata": {
        "id": "jGh2fuz5WoC_"
      }
    },
    {
      "cell_type": "code",
      "source": [
        "x = df_sort[:5].Country\n",
        "y = df_sort[:5].cost_per_content\n",
        "plt.xlabel(\"5 Best Deals\")\n",
        "plt.ylabel(\"Cost per Content in Cent\")\n",
        "plt.plot(x, y, 'o:')\n",
        "plt.show()"
      ],
      "metadata": {
        "colab": {
          "base_uri": "https://localhost:8080/",
          "height": 279
        },
        "id": "qik5DX6ZWoym",
        "outputId": "3445ac37-e7a2-4bdb-ddcd-19bf7d3a00e5"
      },
      "execution_count": null,
      "outputs": [
        {
          "output_type": "display_data",
          "data": {
            "text/plain": [
              "<Figure size 432x288 with 1 Axes>"
            ],
            "image/png": "[encoded data removed]"
          },
          "metadata": {
            "needs_background": "light"
          }
        }
      ]
    }
  ]
}